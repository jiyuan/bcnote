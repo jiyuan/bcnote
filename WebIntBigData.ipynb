{
 "metadata": {
  "name": "",
  "signature": "sha256:9d7749c9c608ff9e3966eee1b62ef7927e861ad975bf9711411e2a6ee548cf3a"
 },
 "nbformat": 3,
 "nbformat_minor": 0,
 "worksheets": [
  {
   "cells": [
    {
     "cell_type": "markdown",
     "metadata": {},
     "source": [
      "#\u7f51\u7edc\u667a\u80fd\u4e0e\u5927\u6570\u636e"
     ]
    },
    {
     "cell_type": "markdown",
     "metadata": {},
     "source": [
      "###Parallel Efficiency of Map-Reduce\n",
      "\n",
      "Map-Reduce\u7684\u5e76\u884c\u6548\u7387\u6307\u7684\u662f\u5355\u7ebf\u7a0b\u5904\u7406\u65f6\u95f4\u9664\u4ee5\u5e76\u884c\u5904\u7406\u7684\u603b\u65f6\u95f4\u3002\u8bb0\u5355\u6838\u5904\u7406\u7684\u8fd0\u7b97\u91cf\u4e3a$wD$\uff0c$\\sigma D$\u662fmap\u4e4b\u540e\u7684\u6570\u636e\u91cf\uff0c\u6bcf\u4e2amap\u5b58\u50a8\u8fd9\u4e9b\u6570\u636e\u9700\u8981\u6d88\u8017$\\sigma D/P$\u7684\u8fd0\u7b97\uff0c\u8fd9\u4e9b\u6570\u636e\u4f20\u8f93\u5230reduce\uff0c\u6bcf\u4e2areduce\u9700\u8981\u6d88\u8017$\\frac{\\sigma D}{P^2}\\times P=\\frac{\\sigma D}{P}$\uff0c\u5219\u5e76\u884c\u6548\u7387\n",
      "\n",
      "\\begin{equation*}\n",
      "\\epsilon_{MR}=\\frac{wD}{P(\\frac{wD}{P}+2c\\frac{\\sigma D}{P})}=\\frac{1}{1+\\frac{2c}{w}\\sigma}\n",
      "\\end{equation*}\n",
      "\n",
      "\u5f53\u6570\u636e\u91cf\u5927\u7684\u65f6\u5019\uff0c\u6548\u7387\u63a5\u8fd1\u4e8e1\u3002"
     ]
    },
    {
     "cell_type": "markdown",
     "metadata": {},
     "source": []
    }
   ],
   "metadata": {}
  }
 ]
}